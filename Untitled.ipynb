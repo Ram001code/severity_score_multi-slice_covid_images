{
 "cells": [
  {
   "cell_type": "code",
   "execution_count": 1,
   "id": "be8eafd5",
   "metadata": {},
   "outputs": [],
   "source": [
    "from tensorflow import keras\n",
    "from keras import preprocessing\n",
    "import numpy as np\n",
    "import pandas as pd\n",
    "import os\n",
    "import matplotlib.pyplot as plt\n",
    "import cv2"
   ]
  },
  {
   "cell_type": "code",
   "execution_count": 2,
   "id": "74859032",
   "metadata": {},
   "outputs": [],
   "source": [
    "#Loading the data\n",
    "Dataset= os.listdir(r'D:\\Albot\\Medical Imaging\\Code\\Praveen\\2COVID\\Patient1')"
   ]
  },
  {
   "cell_type": "code",
   "execution_count": 3,
   "id": "ad67691a",
   "metadata": {},
   "outputs": [
    {
     "data": {
      "text/plain": [
       "['6_Rahimzadeh_137covid_patient1_SR_4_IM00055.png',\n",
       " '6_Rahimzadeh_137covid_patient1_SR_4_IM00056.png',\n",
       " '6_Rahimzadeh_137covid_patient1_SR_4_IM00057.png',\n",
       " '6_Rahimzadeh_137covid_patient1_SR_4_IM00058.png',\n",
       " '6_Rahimzadeh_137covid_patient1_SR_4_IM00059.png',\n",
       " '6_Rahimzadeh_137covid_patient1_SR_4_IM00060.png',\n",
       " '6_Rahimzadeh_137covid_patient1_SR_4_IM00061.png',\n",
       " '6_Rahimzadeh_137covid_patient1_SR_4_IM00062.png',\n",
       " '6_Rahimzadeh_137covid_patient1_SR_4_IM00063.png',\n",
       " '6_Rahimzadeh_137covid_patient1_SR_4_IM00064.png',\n",
       " '6_Rahimzadeh_137covid_patient1_SR_4_IM00074.png',\n",
       " '6_Rahimzadeh_137covid_patient1_SR_4_IM00075.png',\n",
       " '6_Rahimzadeh_137covid_patient1_SR_4_IM00076.png',\n",
       " '6_Rahimzadeh_137covid_patient1_SR_4_IM00081.png',\n",
       " '6_Rahimzadeh_137covid_patient1_SR_4_IM00082.png',\n",
       " '6_Rahimzadeh_137covid_patient1_SR_4_IM00083.png',\n",
       " '6_Rahimzadeh_137covid_patient1_SR_4_IM00084.png',\n",
       " '6_Rahimzadeh_137covid_patient1_SR_4_IM00085.png',\n",
       " '6_Rahimzadeh_137covid_patient1_SR_4_IM00086.png',\n",
       " '6_Rahimzadeh_137covid_patient1_SR_4_IM00087.png',\n",
       " '6_Rahimzadeh_137covid_patient1_SR_4_IM00088.png',\n",
       " '6_Rahimzadeh_137covid_patient1_SR_4_IM00089.png',\n",
       " '6_Rahimzadeh_137covid_patient1_SR_4_IM00090.png',\n",
       " '6_Rahimzadeh_137covid_patient1_SR_4_IM00091.png',\n",
       " '6_Rahimzadeh_137covid_patient1_SR_4_IM00092.png',\n",
       " '6_Rahimzadeh_137covid_patient1_SR_4_IM00110.png',\n",
       " '6_Rahimzadeh_137covid_patient1_SR_4_IM00111.png',\n",
       " '6_Rahimzadeh_137covid_patient1_SR_4_IM00112.png',\n",
       " '6_Rahimzadeh_137covid_patient1_SR_4_IM00113.png',\n",
       " '6_Rahimzadeh_137covid_patient1_SR_4_IM00114.png',\n",
       " '6_Rahimzadeh_137covid_patient1_SR_4_IM00115.png',\n",
       " '6_Rahimzadeh_137covid_patient1_SR_4_IM00116.png',\n",
       " '6_Rahimzadeh_137covid_patient1_SR_4_IM00117.png',\n",
       " '6_Rahimzadeh_137covid_patient1_SR_4_IM00118.png',\n",
       " '6_Rahimzadeh_137covid_patient1_SR_4_IM00119.png',\n",
       " '6_Rahimzadeh_137covid_patient1_SR_4_IM00120.png']"
      ]
     },
     "execution_count": 3,
     "metadata": {},
     "output_type": "execute_result"
    }
   ],
   "source": [
    "Dataset"
   ]
  },
  {
   "cell_type": "code",
   "execution_count": 4,
   "id": "0c9c0cc9",
   "metadata": {},
   "outputs": [
    {
     "name": "stdout",
     "output_type": "stream",
     "text": [
      "['6_Rahimzadeh_137covid_patient1_SR_4_IM00055.png', '6_Rahimzadeh_137covid_patient1_SR_4_IM00056.png', '6_Rahimzadeh_137covid_patient1_SR_4_IM00057.png', '6_Rahimzadeh_137covid_patient1_SR_4_IM00058.png', '6_Rahimzadeh_137covid_patient1_SR_4_IM00059.png', '6_Rahimzadeh_137covid_patient1_SR_4_IM00060.png', '6_Rahimzadeh_137covid_patient1_SR_4_IM00061.png', '6_Rahimzadeh_137covid_patient1_SR_4_IM00062.png', '6_Rahimzadeh_137covid_patient1_SR_4_IM00063.png', '6_Rahimzadeh_137covid_patient1_SR_4_IM00064.png', '6_Rahimzadeh_137covid_patient1_SR_4_IM00074.png', '6_Rahimzadeh_137covid_patient1_SR_4_IM00075.png', '6_Rahimzadeh_137covid_patient1_SR_4_IM00076.png', '6_Rahimzadeh_137covid_patient1_SR_4_IM00081.png', '6_Rahimzadeh_137covid_patient1_SR_4_IM00082.png', '6_Rahimzadeh_137covid_patient1_SR_4_IM00083.png', '6_Rahimzadeh_137covid_patient1_SR_4_IM00084.png', '6_Rahimzadeh_137covid_patient1_SR_4_IM00085.png', '6_Rahimzadeh_137covid_patient1_SR_4_IM00086.png', '6_Rahimzadeh_137covid_patient1_SR_4_IM00087.png', '6_Rahimzadeh_137covid_patient1_SR_4_IM00088.png', '6_Rahimzadeh_137covid_patient1_SR_4_IM00089.png', '6_Rahimzadeh_137covid_patient1_SR_4_IM00090.png', '6_Rahimzadeh_137covid_patient1_SR_4_IM00091.png', '6_Rahimzadeh_137covid_patient1_SR_4_IM00092.png', '6_Rahimzadeh_137covid_patient1_SR_4_IM00110.png', '6_Rahimzadeh_137covid_patient1_SR_4_IM00111.png', '6_Rahimzadeh_137covid_patient1_SR_4_IM00112.png', '6_Rahimzadeh_137covid_patient1_SR_4_IM00113.png', '6_Rahimzadeh_137covid_patient1_SR_4_IM00114.png', '6_Rahimzadeh_137covid_patient1_SR_4_IM00115.png', '6_Rahimzadeh_137covid_patient1_SR_4_IM00116.png', '6_Rahimzadeh_137covid_patient1_SR_4_IM00117.png', '6_Rahimzadeh_137covid_patient1_SR_4_IM00118.png', '6_Rahimzadeh_137covid_patient1_SR_4_IM00119.png', '6_Rahimzadeh_137covid_patient1_SR_4_IM00120.png']\n"
     ]
    }
   ],
   "source": [
    "''''''\n",
    "#checking the data type\n",
    "data_type= os.listdir(r'D:\\Albot\\Medical Imaging\\Code\\Praveen\\2COVID\\Patient1')\n",
    "print(data_type)  #What kind of data/classses are in dataset"
   ]
  },
  {
   "cell_type": "code",
   "execution_count": 5,
   "id": "adba19f9",
   "metadata": {},
   "outputs": [
    {
     "data": {
      "text/plain": [
       "['6_Rahimzadeh_137covid_patient1_SR_4_IM00055.png',\n",
       " '6_Rahimzadeh_137covid_patient1_SR_4_IM00056.png',\n",
       " '6_Rahimzadeh_137covid_patient1_SR_4_IM00057.png',\n",
       " '6_Rahimzadeh_137covid_patient1_SR_4_IM00058.png',\n",
       " '6_Rahimzadeh_137covid_patient1_SR_4_IM00059.png',\n",
       " '6_Rahimzadeh_137covid_patient1_SR_4_IM00060.png',\n",
       " '6_Rahimzadeh_137covid_patient1_SR_4_IM00061.png',\n",
       " '6_Rahimzadeh_137covid_patient1_SR_4_IM00062.png',\n",
       " '6_Rahimzadeh_137covid_patient1_SR_4_IM00063.png',\n",
       " '6_Rahimzadeh_137covid_patient1_SR_4_IM00064.png',\n",
       " '6_Rahimzadeh_137covid_patient1_SR_4_IM00074.png',\n",
       " '6_Rahimzadeh_137covid_patient1_SR_4_IM00075.png',\n",
       " '6_Rahimzadeh_137covid_patient1_SR_4_IM00076.png',\n",
       " '6_Rahimzadeh_137covid_patient1_SR_4_IM00081.png',\n",
       " '6_Rahimzadeh_137covid_patient1_SR_4_IM00082.png',\n",
       " '6_Rahimzadeh_137covid_patient1_SR_4_IM00083.png',\n",
       " '6_Rahimzadeh_137covid_patient1_SR_4_IM00084.png',\n",
       " '6_Rahimzadeh_137covid_patient1_SR_4_IM00085.png',\n",
       " '6_Rahimzadeh_137covid_patient1_SR_4_IM00086.png',\n",
       " '6_Rahimzadeh_137covid_patient1_SR_4_IM00087.png',\n",
       " '6_Rahimzadeh_137covid_patient1_SR_4_IM00088.png',\n",
       " '6_Rahimzadeh_137covid_patient1_SR_4_IM00089.png',\n",
       " '6_Rahimzadeh_137covid_patient1_SR_4_IM00090.png',\n",
       " '6_Rahimzadeh_137covid_patient1_SR_4_IM00091.png',\n",
       " '6_Rahimzadeh_137covid_patient1_SR_4_IM00092.png',\n",
       " '6_Rahimzadeh_137covid_patient1_SR_4_IM00110.png',\n",
       " '6_Rahimzadeh_137covid_patient1_SR_4_IM00111.png',\n",
       " '6_Rahimzadeh_137covid_patient1_SR_4_IM00112.png',\n",
       " '6_Rahimzadeh_137covid_patient1_SR_4_IM00113.png',\n",
       " '6_Rahimzadeh_137covid_patient1_SR_4_IM00114.png',\n",
       " '6_Rahimzadeh_137covid_patient1_SR_4_IM00115.png',\n",
       " '6_Rahimzadeh_137covid_patient1_SR_4_IM00116.png',\n",
       " '6_Rahimzadeh_137covid_patient1_SR_4_IM00117.png',\n",
       " '6_Rahimzadeh_137covid_patient1_SR_4_IM00118.png',\n",
       " '6_Rahimzadeh_137covid_patient1_SR_4_IM00119.png',\n",
       " '6_Rahimzadeh_137covid_patient1_SR_4_IM00120.png']"
      ]
     },
     "execution_count": 5,
     "metadata": {},
     "output_type": "execute_result"
    }
   ],
   "source": [
    "#Calling all the folders/images in a signle list or single place\n",
    "\n",
    "covid= []\n",
    "\n",
    "for i in data_type:\n",
    "    All_dat= os.listdir('Praveen/2COVID/Patient1' + '/')\n",
    "    #print(All_dat)\n",
    "\n",
    "#Adding to a single folder/empty list\n",
    "for j in All_dat:\n",
    "    covid.append((j))\n",
    "    #print(covid[:2])\n",
    "\n",
    "covid"
   ]
  },
  {
   "cell_type": "code",
   "execution_count": 6,
   "id": "82f46991",
   "metadata": {},
   "outputs": [
    {
     "name": "stdout",
     "output_type": "stream",
     "text": [
      "types of class found=  36\n"
     ]
    }
   ],
   "source": [
    "print('types of class found= ', len(covid))"
   ]
  },
  {
   "cell_type": "code",
   "execution_count": 7,
   "id": "8593150e",
   "metadata": {},
   "outputs": [
    {
     "data": {
      "text/plain": [
       "list"
      ]
     },
     "execution_count": 7,
     "metadata": {},
     "output_type": "execute_result"
    }
   ],
   "source": [
    "type(Dataset)"
   ]
  },
  {
   "cell_type": "code",
   "execution_count": 8,
   "id": "cee605e0",
   "metadata": {},
   "outputs": [
    {
     "name": "stdout",
     "output_type": "stream",
     "text": [
      "types of class found=  36\n"
     ]
    }
   ],
   "source": [
    "print('types of class found= ', len(Dataset))"
   ]
  },
  {
   "cell_type": "code",
   "execution_count": 12,
   "id": "39484805",
   "metadata": {},
   "outputs": [
    {
     "name": "stdout",
     "output_type": "stream",
     "text": [
      "types of class found=  36\n"
     ]
    }
   ],
   "source": [
    "print('types of class found= ', len(data))"
   ]
  },
  {
   "cell_type": "code",
   "execution_count": 11,
   "id": "c1990016",
   "metadata": {},
   "outputs": [],
   "source": [
    "import cv2 \n",
    "import os \n",
    "import glob \n",
    "img_dir = r'D:\\Albot\\Medical Imaging\\Code\\Praveen\\2COVID\\Patient1' \n",
    "data_path = os.path.join(img_dir,'*g') \n",
    "files = glob.glob(data_path) \n",
    "data = [] \n",
    "for f1 in files: \n",
    "    img = cv2.imread(f1) \n",
    "    data.append(img) "
   ]
  },
  {
   "cell_type": "code",
   "execution_count": 13,
   "id": "2e7097f0",
   "metadata": {},
   "outputs": [
    {
     "data": {
      "text/plain": [
       "'\\ndef get_Severity(img):\\n    image= cv2.cvtColor(img, cv2.COLOR_BGR2GRAY)\\n    img_scaled = cv2.resize(image, (224, 224), interpolation = cv2.INTER_NEAREST)\\n    image = cv2.GaussianBlur(img_scaled, (3, 3),0)\\n    _, th2 = cv2.threshold(image, 0, 255, cv2.THRESH_BINARY + cv2.THRESH_OTSU)\\n    pixels = cv2.countNonZero(np.float32(th2))\\n    Black_pixcel= (height*width)-pixels\\n   \\n    #Area calculation\\n    img_scaled= cv2.resize(image, (224,224))\\n    val = filters.threshold_otsu(img2)\\n    mask = img2 < val\\n    cleared = clear_border(mask)\\n    selem = disk(3)\\n    binary = binary_closing(cleared, selem)\\n    edges = roberts(binary)\\n    binary = ndi.binary_fill_holes(edges)\\n    binary1 = ndi.binary_fill_holes(binary)\\n    pixels_white = cv2.countNonZero(np.float32(binary))\\n    infected_pixels= pixels_white-Black_pixcel\\n    severity_Score= infected_pixels/pixels_white\\n    severity_percentage= (severity_Score)*100\\n    \\n    return severity_Score\\n'"
      ]
     },
     "execution_count": 13,
     "metadata": {},
     "output_type": "execute_result"
    }
   ],
   "source": [
    "'''\n",
    "def get_Severity(img):\n",
    "    image= cv2.cvtColor(img, cv2.COLOR_BGR2GRAY)\n",
    "    img_scaled = cv2.resize(image, (224, 224), interpolation = cv2.INTER_NEAREST)\n",
    "    image = cv2.GaussianBlur(img_scaled, (3, 3),0)\n",
    "    _, th2 = cv2.threshold(image, 0, 255, cv2.THRESH_BINARY + cv2.THRESH_OTSU)\n",
    "    pixels = cv2.countNonZero(np.float32(th2))\n",
    "    Black_pixcel= (height*width)-pixels\n",
    "   \n",
    "    #Area calculation\n",
    "    img_scaled= cv2.resize(image, (224,224))\n",
    "    val = filters.threshold_otsu(img2)\n",
    "    mask = img2 < val\n",
    "    cleared = clear_border(mask)\n",
    "    selem = disk(3)\n",
    "    binary = binary_closing(cleared, selem)\n",
    "    edges = roberts(binary)\n",
    "    binary = ndi.binary_fill_holes(edges)\n",
    "    binary1 = ndi.binary_fill_holes(binary)\n",
    "    pixels_white = cv2.countNonZero(np.float32(binary))\n",
    "    infected_pixels= pixels_white-Black_pixcel\n",
    "    severity_Score= infected_pixels/pixels_white\n",
    "    severity_percentage= (severity_Score)*100\n",
    "    \n",
    "    return severity_Score\n",
    "'''\n"
   ]
  },
  {
   "cell_type": "code",
   "execution_count": 14,
   "id": "041a71f1",
   "metadata": {},
   "outputs": [],
   "source": [
    "from skimage import filters\n",
    "from skimage.segmentation import clear_border\n",
    "from skimage.morphology import binary_closing, disk, binary_dilation, binary_erosion, binary_opening\n",
    "from skimage.morphology import selem\n",
    "from skimage.filters import roberts\n",
    "from scipy import ndimage as ndi\n",
    "\n",
    "def get_Severity(img):\n",
    "    image= cv2.cvtColor(img, cv2.COLOR_BGR2GRAY)\n",
    "    img_scaled = cv2.resize(image, (224, 224), interpolation = cv2.INTER_NEAREST)\n",
    "    image = cv2.GaussianBlur(img_scaled, (3, 3),0)\n",
    "    _, th2 = cv2.threshold(image, 0, 255, cv2.THRESH_BINARY + cv2.THRESH_OTSU)\n",
    "    pixels = cv2.countNonZero(np.float32(th2))\n",
    "    height, width= 224, 224\n",
    "    Black_pixcel= (height*width)-pixels\n",
    "    \n",
    "    #Area calculation\n",
    "    img1= cv2.resize(image, (224,224))\n",
    "    val = filters.threshold_otsu(img1)\n",
    "    mask = img1 < val\n",
    "    cleared = clear_border(mask)\n",
    "    selem = disk(3)\n",
    "    binary = binary_closing(cleared, selem)\n",
    "    edges = roberts(binary)\n",
    "    binary = ndi.binary_fill_holes(edges)\n",
    "    binary1 = ndi.binary_fill_holes(binary)\n",
    "    pixels_white = cv2.countNonZero(np.float32(binary))\n",
    "    infected_pixels= pixels_white-Black_pixcel\n",
    "    severity_Score= infected_pixels/pixels_white\n",
    "    #severity_percentage= (severity_Score)*100\n",
    "    \n",
    "    return severity_Score\n",
    "   "
   ]
  },
  {
   "cell_type": "code",
   "execution_count": 15,
   "id": "24f43669",
   "metadata": {},
   "outputs": [
    {
     "name": "stdout",
     "output_type": "stream",
     "text": [
      "Severity score -140.36233876250137\n"
     ]
    },
    {
     "data": {
      "text/plain": [
       "'  \\nfor i in data:\\n    print(get_Severity(i))\\n'"
      ]
     },
     "execution_count": 15,
     "metadata": {},
     "output_type": "execute_result"
    }
   ],
   "source": [
    "c=[]\n",
    "for i in data:\n",
    "    c.append(get_Severity(i))\n",
    "\n",
    "#print(\"Severity score\", c) \n",
    "print(\"Severity score\", sum(c)) \n",
    "\n",
    "    \n",
    "'''  \n",
    "for i in data:\n",
    "    print(get_Severity(i))\n",
    "'''  "
   ]
  },
  {
   "cell_type": "code",
   "execution_count": 16,
   "id": "5c845736",
   "metadata": {},
   "outputs": [
    {
     "data": {
      "text/plain": [
       "-140.36233876250137"
      ]
     },
     "execution_count": 16,
     "metadata": {},
     "output_type": "execute_result"
    }
   ],
   "source": [
    "#sum(c)"
   ]
  },
  {
   "cell_type": "code",
   "execution_count": null,
   "id": "5db60cd5",
   "metadata": {},
   "outputs": [],
   "source": []
  },
  {
   "cell_type": "code",
   "execution_count": null,
   "id": "606f5966",
   "metadata": {},
   "outputs": [],
   "source": []
  },
  {
   "cell_type": "code",
   "execution_count": null,
   "id": "15a67000",
   "metadata": {},
   "outputs": [],
   "source": []
  },
  {
   "cell_type": "code",
   "execution_count": null,
   "id": "701e2542",
   "metadata": {},
   "outputs": [],
   "source": []
  },
  {
   "cell_type": "code",
   "execution_count": null,
   "id": "8ee45994",
   "metadata": {},
   "outputs": [],
   "source": []
  },
  {
   "cell_type": "code",
   "execution_count": null,
   "id": "d55b6c58",
   "metadata": {},
   "outputs": [],
   "source": []
  },
  {
   "cell_type": "code",
   "execution_count": null,
   "id": "a7ed96b9",
   "metadata": {},
   "outputs": [],
   "source": []
  },
  {
   "cell_type": "code",
   "execution_count": null,
   "id": "8b3c443a",
   "metadata": {},
   "outputs": [],
   "source": []
  },
  {
   "cell_type": "code",
   "execution_count": null,
   "id": "b8835b80",
   "metadata": {},
   "outputs": [],
   "source": []
  },
  {
   "cell_type": "code",
   "execution_count": null,
   "id": "2c5f2a28",
   "metadata": {},
   "outputs": [],
   "source": []
  },
  {
   "cell_type": "code",
   "execution_count": null,
   "id": "8a137c45",
   "metadata": {},
   "outputs": [],
   "source": []
  }
 ],
 "metadata": {
  "kernelspec": {
   "display_name": "Python 3",
   "language": "python",
   "name": "python3"
  },
  "language_info": {
   "codemirror_mode": {
    "name": "ipython",
    "version": 3
   },
   "file_extension": ".py",
   "mimetype": "text/x-python",
   "name": "python",
   "nbconvert_exporter": "python",
   "pygments_lexer": "ipython3",
   "version": "3.6.13"
  }
 },
 "nbformat": 4,
 "nbformat_minor": 5
}
